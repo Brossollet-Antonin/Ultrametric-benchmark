{
 "cells": [
  {
   "cell_type": "markdown",
   "metadata": {},
   "source": [
    "# Ultrametric benchmark for continual learning - Artificial sequence - Data analysis\n",
    "#### Simon Lebastard - 01/11/2020\n",
    "\n",
    "First off let's go to the directory where the latest data was stored for artificial_8:"
   ]
  },
  {
   "cell_type": "code",
   "execution_count": 3,
   "metadata": {},
   "outputs": [],
   "source": [
    "import os\n",
    "\n",
    "#cwd = os.getcwd()\n",
    "cwd = '/home/proprietaire/Documents/Workspace/Jobs/Columbia/ultrametric_benchmark/Ultrametric-benchmark'"
   ]
  },
  {
   "cell_type": "code",
   "execution_count": 6,
   "metadata": {},
   "outputs": [],
   "source": [
    "dataset = 'artificial_8'\n",
    "nnarchi = 'CNN'\n",
    "seq_length = 100000\n",
    "n_batch = 10"
   ]
  },
  {
   "cell_type": "code",
   "execution_count": 7,
   "metadata": {},
   "outputs": [],
   "source": [
    "data_root = cwd + \"/Results/\" + dataset + '/' + nnarchi + '/length' + str(seq_length) + '_batches' + str(n_batch)\n",
    "latest_save_folder = \"T0.600_Memory0_block100_200112_01471578790020\""
   ]
  },
  {
   "cell_type": "code",
   "execution_count": 10,
   "metadata": {},
   "outputs": [
    {
     "data": {
      "text/plain": [
       "['autocorr_original.npy',\n",
       " 'diagnostic_original.npy',\n",
       " 'data_shuffle',\n",
       " 'var_shuffle_accuracy.npy',\n",
       " 'autocorr_shuffle.npy',\n",
       " 'var_original_accuracy.npy',\n",
       " 'shuffle',\n",
       " 'var_original_classes_prediction.npy',\n",
       " 'distribution_train',\n",
       " 'train_data',\n",
       " 'diagnostic_shuffle.npy',\n",
       " 'parameters.npy',\n",
       " 'var_shuffle_classes_prediction.npy',\n",
       " 'original']"
      ]
     },
     "execution_count": 10,
     "metadata": {},
     "output_type": "execute_result"
    }
   ],
   "source": [
    "os.chdir(data_root + '/' + latest_save_folder)\n",
    "os.listdir()"
   ]
  },
  {
   "cell_type": "markdown",
   "metadata": {},
   "source": [
    "Now let's load standard packages and find out about the content of each file:"
   ]
  },
  {
   "cell_type": "code",
   "execution_count": 57,
   "metadata": {},
   "outputs": [],
   "source": [
    "import numpy as np\n",
    "import pandas as pd\n",
    "from matplotlib import pyplot as plt\n",
    "import pdb\n",
    "\n",
    "import pickle\n",
    "%matplotlib inline"
   ]
  },
  {
   "cell_type": "code",
   "execution_count": 45,
   "metadata": {},
   "outputs": [],
   "source": [
    "# train_data_orig\n",
    "# Type: list    Stored as: pickle\n",
    "# Contains the training data inputs, for the original training sequence\n",
    "file = open('train_data', 'rb')\n",
    "train_data_orig = pickle.load(file)\n",
    "file.close()\n",
    "\n",
    "# train_labels_orig\n",
    "# Type: list    Stored as: pickle\n",
    "# Contains the training labels, cast between 0 and N_labels, for the original training sequence\n",
    "file = open('original', 'rb')\n",
    "train_labels_orig = pickle.load(file)\n",
    "file.close()\n",
    "\n",
    "# train_data_shfl\n",
    "# Type: list    Stored as: pickle\n",
    "# Contains the training data inputs, for the shuffled training sequence\n",
    "file = open('data_shuffle', 'rb')\n",
    "train_data_shfl = pickle.load(file)\n",
    "file.close()\n",
    "\n",
    "# train_labels_shfl\n",
    "# Type: list    Stored as: pickle\n",
    "# Contains the training labels, cast between 0 and N_labels, for the shuffled training sequence\n",
    "file = open('shuffle', 'rb')\n",
    "train_labels_shfl = pickle.load(file)\n",
    "file.close()\n",
    "\n",
    "# distribution_train\n",
    "# Type: list    Stored as: pickle\n",
    "# Counts, for each label, the corresponding number of training example\n",
    "file = open('distribution_train', 'rb')\n",
    "dstr_train = pickle.load(file)\n",
    "file.close()\n",
    "\n",
    "# distribution_train\n",
    "# Type: list    Stored as: pickle\n",
    "# Counts, for each label, the corresponding number of training example\n",
    "params = np.load('parameters.npy')\n",
    "\n",
    "# autocorr_original.npy\n",
    "# Type: array    Stored as: npy\n",
    "# The autocorrelation function as computed by statsmodels.tsa.stattools.act\n",
    "atc_orig = np.load('autocorr_original.npy')\n",
    "# autocorr_shuffle.npy\n",
    "# Type: array    Stored as: npy\n",
    "# A list of autocorrelation functions, each computed on a different test sample, as computed by statsmodels.tsa.stattools.act\n",
    "atc_shfl = np.load('autocorr_shuffle.npy')\n",
    "\n",
    "# diagnostic_original.npy\n",
    "# Type: array    Stored as: npy\n",
    "# [0] contains the average accuracy split per level of hierarchy (I don't understand the split though)\n",
    "# [1][0] contains the GT pointwise to the testing sequence\n",
    "# [1][1] contains the prediction pointwise to the testing sequence\n",
    "# [1][2:2+N_hier-1] contains the pointwise distance between GT and prediction on the testing sequence\n",
    "eval_orig = np.load('diagnostic_original.npy', allow_pickle=True)\n",
    "eval_shfl = np.load('diagnostic_shuffle.npy', allow_pickle=True)\n",
    "\n",
    "# var_original_accuracy.npy\n",
    "# Type: array    Stored as: npy\n",
    "# [0] Average accuracy over full test sequence\n",
    "# [1:test_nbr] Average accuracy over each test run\n",
    "var_acc_orig = np.load('var_original_accuracy.npy')\n",
    "var_acc_shfl = np.load('var_shuffle_accuracy.npy')\n",
    "\n",
    "# var_original_classes_prediction.npy\n",
    "# Type: array    Stored as: npy\n",
    "# [0:test_nbr] Contains, for each test run, the composition of the test sampl,\n",
    "# as well as the progress of training as the max training ID scanned at the time of the test run\n",
    "var_pred_orig = np.load('var_original_classes_prediction.npy', allow_pickle=True)\n",
    "var_pred_shfl = np.load('var_shuffle_classes_prediction.npy', allow_pickle=True)"
   ]
  },
  {
   "cell_type": "markdown",
   "metadata": {},
   "source": [
    "## Autocorrelation plots\n",
    "\n",
    "Let's plot the autocorrelation function to DARPA standards:"
   ]
  },
  {
   "cell_type": "code",
   "execution_count": 63,
   "metadata": {},
   "outputs": [
    {
     "data": {
      "text/plain": [
       "<matplotlib.legend.Legend at 0x7f390f6376a0>"
      ]
     },
     "execution_count": 63,
     "metadata": {},
     "output_type": "execute_result"
    },
    {
     "data": {
      "image/png": "[encoded data removed]",
      "text/plain": [
       "<Figure size 1080x504 with 1 Axes>"
      ]
     },
     "metadata": {
      "needs_background": "light"
     },
     "output_type": "display_data"
    }
   ],
   "source": [
    "atc_fig = plt.figure(figsize=(15,7))\n",
    "atc_ax = plt.subplot(111)\n",
    "\n",
    "atc_ax.plot(\n",
    "    atc_orig,\n",
    "    marker='.',\n",
    "    ls='none',\n",
    "    label='Original'\n",
    ")\n",
    "\n",
    "for test_id, atc_shfl_test in enumerate(atc_shfl[:1]):\n",
    "    atc_ax.plot(\n",
    "        atc_shfl_test,\n",
    "        marker='.',\n",
    "        ls='none',\n",
    "        label='Shuffle - test run {0:s}'.format(str(test_id))\n",
    "    )\n",
    "\n",
    "plt.xscale(\"log\")\n",
    "plt.yscale(\"log\")\n",
    "    \n",
    "plt.title('Autocorrelation function for original and shuffled sequences')\n",
    "atc_ax.legend()"
   ]
  },
  {
   "cell_type": "markdown",
   "metadata": {},
   "source": [
    "## Accuracy = f(t) plots"
   ]
  },
  {
   "cell_type": "code",
   "execution_count": 74,
   "metadata": {},
   "outputs": [
    {
     "data": {
      "text/plain": [
       "array([1., 1., 1., ..., 1., 1., 1.])"
      ]
     },
     "execution_count": 74,
     "metadata": {},
     "output_type": "execute_result"
    }
   ],
   "source": [
    "acc_orig = 1 - eval_orig[1][:,2]\n",
    "acc_orig"
   ]
  },
  {
   "cell_type": "code",
   "execution_count": 81,
   "metadata": {},
   "outputs": [
    {
     "data": {
      "text/plain": [
       "<matplotlib.legend.Legend at 0x7f390ec07d68>"
      ]
     },
     "execution_count": 81,
     "metadata": {},
     "output_type": "execute_result"
    },
    {
     "data": {
      "image/png": "[encoded data removed]",
      "text/plain": [
       "<Figure size 1080x504 with 1 Axes>"
      ]
     },
     "metadata": {
      "needs_background": "light"
     },
     "output_type": "display_data"
    }
   ],
   "source": [
    "acc_fig = plt.figure(figsize=(15,7))\n",
    "acc_ax = plt.subplot(111)\n",
    "\n",
    "acc_ax.plot(\n",
    "    var_acc_orig[:,0],\n",
    "    marker = '.',\n",
    "    ls = 'none',\n",
    "    label='Original sequence'\n",
    ")\n",
    "\n",
    "for test_id, atc_shfl_test in enumerate(atc_shfl[:1]):\n",
    "    acc_ax.plot(\n",
    "        var_acc_shfl[:,0],\n",
    "        marker='.',\n",
    "        ls='none',\n",
    "        label='Shuffle - test run {0:s}'.format(str(test_id))\n",
    "    )\n",
    "    \n",
    "plt.title('Accuracy as a function of time for original and shuffled sequences')\n",
    "acc_ax.legend()"
   ]
  },
  {
   "cell_type": "code",
   "execution_count": null,
   "metadata": {},
   "outputs": [],
   "source": []
  }
 ],
 "metadata": {
  "kernelspec": {
   "display_name": "Python 3",
   "language": "python",
   "name": "python3"
  },
  "language_info": {
   "codemirror_mode": {
    "name": "ipython",
    "version": 3
   },
   "file_extension": ".py",
   "mimetype": "text/x-python",
   "name": "python",
   "nbconvert_exporter": "python",
   "pygments_lexer": "ipython3",
   "version": "3.5.2"
  }
 },
 "nbformat": 4,
 "nbformat_minor": 4
}
