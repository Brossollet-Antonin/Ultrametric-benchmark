{
 "cells": [
  {
   "cell_type": "markdown",
   "metadata": {},
   "source": [
    "# Visual method to estimate the correct value of ultrametric sequence hyperparameters"
   ]
  },
  {
   "cell_type": "markdown",
   "metadata": {},
   "source": [
    "Notebook to explore hyper-parameters and select a temperature and a block size for random blocks which have roughly equivalent dataset exploration"
   ]
  },
  {
   "cell_type": "code",
   "execution_count": 110,
   "metadata": {},
   "outputs": [],
   "source": [
    "import numpy as np\n",
    "\n",
    "def lbl_history(seq, T_list, scope_max=None, shuffled_blocksz=None, strides=None):\n",
    "    n_Ts = len(T_list)\n",
    "    assert (n_Ts>0)\n",
    "    t_explr = None\n",
    "\n",
    "    lbls_fig = plt.figure(figsize=(18,10*n_Ts))\n",
    "    lbls_axes = []\n",
    "\n",
    "    for T_id, T in enumerate(T_list):\n",
    "        if shuffled_blocksz is None:\n",
    "            occur_id = random.randint(0, len(seq)-1)\n",
    "        else:\n",
    "            occur_id = random.randint(0, len(self.train_labels_shfl[T][shuffled_blocksz])-1)\n",
    "            seq = self.train_labels_shfl[T][shuffled_blocksz][occur_id]\n",
    "\n",
    "        n_labels = len(set(seq))\n",
    "        lbls_ax = plt.subplot(n_Ts, 1, 1+T_id)\n",
    "        lbls_axes.append(lbls_ax)\n",
    "        lbls_ax.plot(seq)\n",
    "\n",
    "        obs_lbl_set = set()\n",
    "        nobs_seq = []\n",
    "        for itr_id, lbl in enumerate(seq):\n",
    "            obs_lbl_set.add(lbl)\n",
    "            nobs_seq.append(len(obs_lbl_set))\n",
    "            if t_explr is None and len(obs_lbl_set) == n_labels:\n",
    "                t_explr = itr_id\n",
    "\n",
    "        lbls_ax.plot(nobs_seq)\n",
    "        if strides is not None:\n",
    "            for stride in strides:\n",
    "                lbls_ax.axvline(x=stride, ymin=0, ymax=n_labels)\n",
    "\n",
    "        ttl = 'History of labels in the original training sequence - T='+str(T)\n",
    "        if t_explr:\n",
    "            ttl = ttl+' - tau_asym=' + str(t_explr)\n",
    "            \n",
    "    if scope_max is not None:\n",
    "        lbls_ax.set_xlim([0,scope_max])\n",
    "            \n",
    "    plt.title(ttl)\n",
    "    plt.show()\n",
    "    return lbls_fig, lbls_axes\n",
    "\n",
    "def get_average_expltime(seqs):\n",
    "    t_explrs = []\n",
    "    for seq in seqs:\n",
    "        t_explr = None\n",
    "        n_labels = len(set(seq))\n",
    "        obs_lbl_set = set()\n",
    "        nobs_seq = []\n",
    "        for itr_id, lbl in enumerate(seq):\n",
    "            obs_lbl_set.add(lbl)\n",
    "            nobs_seq.append(len(obs_lbl_set))\n",
    "            if t_explr is None and len(obs_lbl_set) == n_labels:\n",
    "                t_explr = itr_id\n",
    "        if t_explr is not None:\n",
    "            t_explrs.append(t_explr)\n",
    "            \n",
    "    avg_t_explr = np.mean(t_explrs)\n",
    "    std_t_explr = np.std(t_explrs)\n",
    "    return len(t_explrs), avg_t_explr, std_t_explr"
   ]
  },
  {
   "cell_type": "markdown",
   "metadata": {},
   "source": [
    "## Sequence parameters"
   ]
  },
  {
   "cell_type": "code",
   "execution_count": 123,
   "metadata": {},
   "outputs": [],
   "source": [
    "T = 2.25e-1\n",
    "split_length = [1000]\n",
    "tree_depth = 3 #3 for MNIST\n",
    "tree_branching = 2 #other values not supported yet\n",
    "seq_length = 600000\n",
    "test_nbr = 10 \n",
    "hidden_size = 256 # size of the neural net hidden layer"
   ]
  },
  {
   "cell_type": "markdown",
   "metadata": {},
   "source": [
    "## Sequence generation "
   ]
  },
  {
   "cell_type": "markdown",
   "metadata": {},
   "source": [
    "Generate the sequence necessary for HP exploration: an ultrametric sequence and a random blocks sequence"
   ]
  },
  {
   "cell_type": "code",
   "execution_count": 124,
   "metadata": {},
   "outputs": [],
   "source": [
    "import os\n",
    "import matplotlib.pyplot as plt\n",
    "import random\n",
    "nwd = '/home/slebastard-adc/Documents/Projects/ultrametric_benchmark/Ultrametric-Benchmark'\n",
    "os.chdir(nwd)\n",
    "from trainer import Trainer\n",
    "from dataset import Dataset"
   ]
  },
  {
   "cell_type": "code",
   "execution_count": 125,
   "metadata": {},
   "outputs": [],
   "source": [
    "mnist_ds = Dataset(data_origin='MNIST')\n",
    "trainer_um = Trainer(dataset=mnist_ds, network='network', training_type='ultrametric',\n",
    "                    memory_sampling='reservoir sampling', memory_sz=10, sequence_length=seq_length,\n",
    "                    energy_step=1, T=T, split_length_list=split_length, batch_sz=10)\n",
    "trainer_rb = Trainer(dataset=mnist_ds, network='network', training_type='random_blocks2',\n",
    "                    memory_sampling='reservoir sampling', memory_sz=10, sequence_length=seq_length,\n",
    "                    energy_step=1, T=T, split_length_list=split_length, batch_sz=10)"
   ]
  },
  {
   "cell_type": "markdown",
   "metadata": {},
   "source": [
    "Generate the digits sequences for both cases"
   ]
  },
  {
   "cell_type": "code",
   "execution_count": 126,
   "metadata": {
    "scrolled": true
   },
   "outputs": [
    {
     "name": "stdout",
     "output_type": "stream",
     "text": [
      "Transition rates vector : [0.00000000e+00 9.89385837e-01 5.25133672e-03 5.25133672e-03\n",
      " 2.78723793e-05 2.78723793e-05 2.78723793e-05 2.78723793e-05]\n",
      "Transition rates vector : [0.00000000e+00 9.89385837e-01 5.25133672e-03 5.25133672e-03\n",
      " 2.78723793e-05 2.78723793e-05 2.78723793e-05 2.78723793e-05]\n",
      "Transition rates vector : [0.00000000e+00 9.89385837e-01 5.25133672e-03 5.25133672e-03\n",
      " 2.78723793e-05 2.78723793e-05 2.78723793e-05 2.78723793e-05]\n",
      "Transition rates vector : [0.00000000e+00 9.89385837e-01 5.25133672e-03 5.25133672e-03\n",
      " 2.78723793e-05 2.78723793e-05 2.78723793e-05 2.78723793e-05]\n",
      "Transition rates vector : [0.00000000e+00 9.89385837e-01 5.25133672e-03 5.25133672e-03\n",
      " 2.78723793e-05 2.78723793e-05 2.78723793e-05 2.78723793e-05]\n",
      "Transition rates vector : [0.00000000e+00 9.89385837e-01 5.25133672e-03 5.25133672e-03\n",
      " 2.78723793e-05 2.78723793e-05 2.78723793e-05 2.78723793e-05]\n",
      "Transition rates vector : [0.00000000e+00 9.89385837e-01 5.25133672e-03 5.25133672e-03\n",
      " 2.78723793e-05 2.78723793e-05 2.78723793e-05 2.78723793e-05]\n",
      "Transition rates vector : [0.00000000e+00 9.89385837e-01 5.25133672e-03 5.25133672e-03\n",
      " 2.78723793e-05 2.78723793e-05 2.78723793e-05 2.78723793e-05]\n",
      "Transition rates vector : [0.00000000e+00 9.89385837e-01 5.25133672e-03 5.25133672e-03\n",
      " 2.78723793e-05 2.78723793e-05 2.78723793e-05 2.78723793e-05]\n",
      "Transition rates vector : [0.00000000e+00 9.89385837e-01 5.25133672e-03 5.25133672e-03\n",
      " 2.78723793e-05 2.78723793e-05 2.78723793e-05 2.78723793e-05]\n",
      "Transition rates vector : [0.00000000e+00 9.89385837e-01 5.25133672e-03 5.25133672e-03\n",
      " 2.78723793e-05 2.78723793e-05 2.78723793e-05 2.78723793e-05]\n",
      "Transition rates vector : [0.00000000e+00 9.89385837e-01 5.25133672e-03 5.25133672e-03\n",
      " 2.78723793e-05 2.78723793e-05 2.78723793e-05 2.78723793e-05]\n",
      "Transition rates vector : [0.00000000e+00 9.89385837e-01 5.25133672e-03 5.25133672e-03\n",
      " 2.78723793e-05 2.78723793e-05 2.78723793e-05 2.78723793e-05]\n",
      "Transition rates vector : [0.00000000e+00 9.89385837e-01 5.25133672e-03 5.25133672e-03\n",
      " 2.78723793e-05 2.78723793e-05 2.78723793e-05 2.78723793e-05]\n",
      "Transition rates vector : [0.00000000e+00 9.89385837e-01 5.25133672e-03 5.25133672e-03\n",
      " 2.78723793e-05 2.78723793e-05 2.78723793e-05 2.78723793e-05]\n",
      "Transition rates vector : [0.00000000e+00 9.89385837e-01 5.25133672e-03 5.25133672e-03\n",
      " 2.78723793e-05 2.78723793e-05 2.78723793e-05 2.78723793e-05]\n",
      "Transition rates vector : [0.00000000e+00 9.89385837e-01 5.25133672e-03 5.25133672e-03\n",
      " 2.78723793e-05 2.78723793e-05 2.78723793e-05 2.78723793e-05]\n",
      "Transition rates vector : [0.00000000e+00 9.89385837e-01 5.25133672e-03 5.25133672e-03\n",
      " 2.78723793e-05 2.78723793e-05 2.78723793e-05 2.78723793e-05]\n",
      "Transition rates vector : [0.00000000e+00 9.89385837e-01 5.25133672e-03 5.25133672e-03\n",
      " 2.78723793e-05 2.78723793e-05 2.78723793e-05 2.78723793e-05]\n",
      "Transition rates vector : [0.00000000e+00 9.89385837e-01 5.25133672e-03 5.25133672e-03\n",
      " 2.78723793e-05 2.78723793e-05 2.78723793e-05 2.78723793e-05]\n",
      "Transition rates vector : [0.00000000e+00 9.89385837e-01 5.25133672e-03 5.25133672e-03\n",
      " 2.78723793e-05 2.78723793e-05 2.78723793e-05 2.78723793e-05]\n",
      "Transition rates vector : [0.00000000e+00 9.89385837e-01 5.25133672e-03 5.25133672e-03\n",
      " 2.78723793e-05 2.78723793e-05 2.78723793e-05 2.78723793e-05]\n",
      "Transition rates vector : [0.00000000e+00 9.89385837e-01 5.25133672e-03 5.25133672e-03\n",
      " 2.78723793e-05 2.78723793e-05 2.78723793e-05 2.78723793e-05]\n",
      "Transition rates vector : [0.00000000e+00 9.89385837e-01 5.25133672e-03 5.25133672e-03\n",
      " 2.78723793e-05 2.78723793e-05 2.78723793e-05 2.78723793e-05]\n",
      "Transition rates vector : [0.00000000e+00 9.89385837e-01 5.25133672e-03 5.25133672e-03\n",
      " 2.78723793e-05 2.78723793e-05 2.78723793e-05 2.78723793e-05]\n",
      "Transition rates vector : [0.00000000e+00 9.89385837e-01 5.25133672e-03 5.25133672e-03\n",
      " 2.78723793e-05 2.78723793e-05 2.78723793e-05 2.78723793e-05]\n",
      "Transition rates vector : [0.00000000e+00 9.89385837e-01 5.25133672e-03 5.25133672e-03\n",
      " 2.78723793e-05 2.78723793e-05 2.78723793e-05 2.78723793e-05]\n",
      "Transition rates vector : [0.00000000e+00 9.89385837e-01 5.25133672e-03 5.25133672e-03\n",
      " 2.78723793e-05 2.78723793e-05 2.78723793e-05 2.78723793e-05]\n",
      "Transition rates vector : [0.00000000e+00 9.89385837e-01 5.25133672e-03 5.25133672e-03\n",
      " 2.78723793e-05 2.78723793e-05 2.78723793e-05 2.78723793e-05]\n",
      "Transition rates vector : [0.00000000e+00 9.89385837e-01 5.25133672e-03 5.25133672e-03\n",
      " 2.78723793e-05 2.78723793e-05 2.78723793e-05 2.78723793e-05]\n"
     ]
    }
   ],
   "source": [
    "um_seqs = []\n",
    "rb_seqs = []\n",
    "n_trials = 30\n",
    "\n",
    "for trial_id in range(n_trials):\n",
    "    trainer_um.make_train_sequence()\n",
    "    um_seqs.append(trainer_um.train_sequence)\n",
    "    trainer_rb.make_train_sequence()\n",
    "    rb_seqs.append(trainer_rb.train_sequence)\n",
    "    \n",
    "um_n_expl_success, um_mean_t_expl, um_std_t_expl = get_average_expltime(um_seqs)\n",
    "rb_n_expl_success, rb_mean_t_expl, rb_std_t_expl = get_average_expltime(rb_seqs)"
   ]
  },
  {
   "cell_type": "code",
   "execution_count": 127,
   "metadata": {},
   "outputs": [],
   "source": [
    "um_n_expl_success, um_mean_t_expl, um_std_t_expl = get_average_expltime(um_seqs)\n",
    "rb_n_expl_success, rb_mean_t_expl, rb_std_t_expl = get_average_expltime(rb_seqs)"
   ]
  },
  {
   "cell_type": "code",
   "execution_count": 128,
   "metadata": {},
   "outputs": [
    {
     "name": "stdout",
     "output_type": "stream",
     "text": [
      "Ultrametric: 30/30 sequences have reached full exploration, with average exploration time 8769.2 epochs (std dev 7578.8)\n",
      "Random blocks: 30/30 sequences have reached full exploration, with average exploration time 7635.1 epochs (std dev 3928.5)\n"
     ]
    }
   ],
   "source": [
    "print(\"Ultrametric: {0:d}/{1:d} sequences have reached full exploration, with average exploration time {2:.1f} epochs (std dev {3:.1f})\".format(\n",
    "    um_n_expl_success,\n",
    "    n_trials,\n",
    "    um_mean_t_expl,\n",
    "    um_std_t_expl\n",
    "))\n",
    "\n",
    "print(\"Random blocks: {0:d}/{1:d} sequences have reached full exploration, with average exploration time {2:.1f} epochs (std dev {3:.1f})\".format(\n",
    "    rb_n_expl_success,\n",
    "    n_trials,\n",
    "    rb_mean_t_expl,\n",
    "    rb_std_t_expl\n",
    "))"
   ]
  },
  {
   "cell_type": "markdown",
   "metadata": {},
   "source": [
    "## Plot labels history"
   ]
  },
  {
   "cell_type": "markdown",
   "metadata": {},
   "source": [
    "Plot the Ultrametric sequence and the history of visited labels"
   ]
  },
  {
   "cell_type": "code",
   "execution_count": 133,
   "metadata": {},
   "outputs": [
    {
     "data": {
      "image/png": "[encoded data removed]",
      "text/plain": [
       "<Figure size 1296x720 with 1 Axes>"
      ]
     },
     "metadata": {
      "needs_background": "light"
     },
     "output_type": "display_data"
    },
    {
     "data": {
      "text/plain": [
       "(<Figure size 1296x720 with 1 Axes>,\n",
       " [<matplotlib.axes._subplots.AxesSubplot at 0x7f7de7d7c550>])"
      ]
     },
     "execution_count": 133,
     "metadata": {},
     "output_type": "execute_result"
    }
   ],
   "source": [
    "lbl_history(um_seqs[0], [T], scope_max=1.5e4) "
   ]
  },
  {
   "cell_type": "markdown",
   "metadata": {},
   "source": [
    "Plot the Random Blocks sequence and the history of visited labels"
   ]
  },
  {
   "cell_type": "code",
   "execution_count": 132,
   "metadata": {},
   "outputs": [
    {
     "data": {
      "image/png": "[encoded data removed]",
      "text/plain": [
       "<Figure size 1296x720 with 1 Axes>"
      ]
     },
     "metadata": {
      "needs_background": "light"
     },
     "output_type": "display_data"
    },
    {
     "data": {
      "text/plain": [
       "(<Figure size 1296x720 with 1 Axes>,\n",
       " [<matplotlib.axes._subplots.AxesSubplot at 0x7f7ddd706a58>])"
      ]
     },
     "execution_count": 132,
     "metadata": {},
     "output_type": "execute_result"
    }
   ],
   "source": [
    "lbl_history(trainer_rb.train_sequence, [T], scope_max=1.5e4) "
   ]
  },
  {
   "cell_type": "markdown",
   "metadata": {},
   "source": [
    "## Testing network accuracy"
   ]
  },
  {
   "cell_type": "markdown",
   "metadata": {},
   "source": [
    "To make sure the temperature is correct, need to check that the network trained on the UM sequence reaches asymptotique accurary sensibly before the end of the training"
   ]
  },
  {
   "cell_type": "code",
   "execution_count": 134,
   "metadata": {},
   "outputs": [],
   "source": [
    "import neuralnet\n",
    "from ultrametric_analysis import ultrametric_analysis"
   ]
  },
  {
   "cell_type": "code",
   "execution_count": 135,
   "metadata": {},
   "outputs": [],
   "source": [
    "net = neuralnet.Net_FCL(dataset=mnist_ds, hidden_size=hidden_size)\n",
    "trainer_um.network = net\n",
    "trainer_um.network_orig = net\n",
    "trainer_um.network_shfl = net"
   ]
  },
  {
   "cell_type": "code",
   "execution_count": 136,
   "metadata": {},
   "outputs": [],
   "source": [
    "class Argument: \n",
    "    def __init__(self, verbose, test_nbr, test_stride, lr, sequence_type, enable_shuffling): \n",
    "        self.verbose = verbose\n",
    "        self.test_nbr = test_nbr\n",
    "        self.test_stride = test_stride\n",
    "        self.lr = lr \n",
    "        self.sequence_type = sequence_type\n",
    "        self.enable_shuffling = enable_shuffling\n",
    "      \n",
    "test_stride = int(seq_length/test_nbr)\n",
    "args = Argument(verbose=1, test_nbr=test_nbr, test_stride=test_stride, lr=0.01, \n",
    "                sequence_type=\"ultrametric\", enable_shuffling=False)"
   ]
  },
  {
   "cell_type": "code",
   "execution_count": 137,
   "metadata": {},
   "outputs": [
    {
     "name": "stdout",
     "output_type": "stream",
     "text": [
      "Data generation...\n",
      "Transition rates vector : [0.00000000e+00 9.89385837e-01 5.25133672e-03 5.25133672e-03\n",
      " 2.78723793e-05 2.78723793e-05 2.78723793e-05 2.78723793e-05]\n",
      "...done\n",
      "\n",
      "[1000] loss: 0.1929\n",
      "[2000] loss: 0.0688\n",
      "[3000] loss: 0.1026\n",
      "[4000] loss: 0.0792\n",
      "[5000] loss: 0.0679\n",
      "[6000] loss: 0.0801\n",
      "--- Finished Experience Replay training on (0, 60000) ---\n",
      "Accuracy of the network on the 7136 test images: 80.79%\n",
      "[7000] loss: 0.0757\n",
      "[8000] loss: 0.0551\n",
      "[9000] loss: 0.0904\n",
      "[10000] loss: 0.0728\n",
      "[11000] loss: 0.0605\n",
      "[12000] loss: 0.0586\n",
      "--- Finished Experience Replay training on (60000, 120000) ---\n",
      "Accuracy of the network on the 7136 test images: 83.77%\n",
      "[13000] loss: 0.0493\n",
      "[14000] loss: 0.0549\n",
      "[15000] loss: 0.0716\n",
      "[16000] loss: 0.0501\n",
      "[17000] loss: 0.0439\n",
      "[18000] loss: 0.0423\n",
      "--- Finished Experience Replay training on (120000, 180000) ---\n",
      "Accuracy of the network on the 7136 test images: 60.71%\n",
      "[19000] loss: 0.0859\n",
      "[20000] loss: 0.0489\n",
      "[21000] loss: 0.0607\n",
      "[22000] loss: 0.0537\n",
      "[23000] loss: 0.0559\n",
      "[24000] loss: 0.0766\n",
      "--- Finished Experience Replay training on (180000, 240000) ---\n",
      "Accuracy of the network on the 7136 test images: 83.93%\n",
      "[25000] loss: 0.0537\n",
      "[26000] loss: 0.0656\n",
      "[27000] loss: 0.0645\n",
      "[28000] loss: 0.0449\n",
      "[29000] loss: 0.0394\n",
      "[30000] loss: 0.0394\n",
      "--- Finished Experience Replay training on (240000, 300000) ---\n",
      "Accuracy of the network on the 7136 test images: 64.55%\n",
      "[31000] loss: 0.0439\n",
      "[32000] loss: 0.0737\n",
      "[33000] loss: 0.0654\n",
      "[34000] loss: 0.0398\n",
      "[35000] loss: 0.0533\n",
      "[36000] loss: 0.0692\n",
      "--- Finished Experience Replay training on (300000, 360000) ---\n",
      "Accuracy of the network on the 7136 test images: 92.50%\n",
      "[37000] loss: 0.0507\n",
      "[38000] loss: 0.0454\n",
      "[39000] loss: 0.0464\n",
      "[40000] loss: 0.0701\n",
      "[41000] loss: 0.0561\n",
      "[42000] loss: 0.0578\n",
      "--- Finished Experience Replay training on (360000, 420000) ---\n",
      "Accuracy of the network on the 7136 test images: 85.86%\n",
      "[43000] loss: 0.0500\n",
      "[44000] loss: 0.0667\n",
      "[45000] loss: 0.0602\n",
      "[46000] loss: 0.0496\n",
      "[47000] loss: 0.0422\n",
      "[48000] loss: 0.0630\n",
      "--- Finished Experience Replay training on (420000, 480000) ---\n",
      "Accuracy of the network on the 7136 test images: 80.98%\n",
      "[49000] loss: 0.0635\n",
      "[50000] loss: 0.0484\n",
      "[51000] loss: 0.0563\n",
      "[52000] loss: 0.0572\n",
      "[53000] loss: 0.0614\n",
      "[54000] loss: 0.0436\n",
      "--- Finished Experience Replay training on (480000, 540000) ---\n",
      "Accuracy of the network on the 7136 test images: 67.98%\n",
      "[55000] loss: 0.0682\n",
      "[56000] loss: 0.0582\n",
      "[57000] loss: 0.0605\n",
      "[58000] loss: 0.0506\n",
      "[59000] loss: 0.0715\n",
      "[60000] loss: 0.0515\n",
      "--- Finished Experience Replay training on (540000, 600000) ---\n",
      "Accuracy of the network on the 7136 test images: 73.89%\n"
     ]
    }
   ],
   "source": [
    "rs = ultrametric_analysis(trainer_um, args, [])"
   ]
  },
  {
   "cell_type": "code",
   "execution_count": null,
   "metadata": {},
   "outputs": [],
   "source": []
  }
 ],
 "metadata": {
  "kernelspec": {
   "display_name": "Python 3",
   "language": "python",
   "name": "python3"
  },
  "language_info": {
   "codemirror_mode": {
    "name": "ipython",
    "version": 3
   },
   "file_extension": ".py",
   "mimetype": "text/x-python",
   "name": "python",
   "nbconvert_exporter": "python",
   "pygments_lexer": "ipython3",
   "version": "3.6.9"
  }
 },
 "nbformat": 4,
 "nbformat_minor": 4
}
