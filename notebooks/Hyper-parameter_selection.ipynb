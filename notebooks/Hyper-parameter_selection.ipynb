{
 "cells": [
  {
   "cell_type": "markdown",
   "metadata": {},
   "source": [
    "# Visual method to estimate the correct value of ultrametric sequence hyperparameters"
   ]
  },
  {
   "cell_type": "markdown",
   "metadata": {},
   "source": [
    "Notebook to explore hyper-parameters and select a temperature and a block size for random blocks which have roughly equivalent dataset exploration"
   ]
  },
  {
   "cell_type": "code",
   "execution_count": 67,
   "metadata": {},
   "outputs": [],
   "source": [
    "import numpy as np\n",
    "\n",
    "def lbl_history(seq, T_list, scope_max=None, shuffled_blocksz=None, strides=None):\n",
    "    n_Ts = len(T_list)\n",
    "    assert (n_Ts>0)\n",
    "    t_explr = None\n",
    "\n",
    "    lbls_fig = plt.figure(figsize=(18,10*n_Ts))\n",
    "    lbls_axes = []\n",
    "\n",
    "    for T_id, T in enumerate(T_list):\n",
    "        if shuffled_blocksz is None:\n",
    "            occur_id = random.randint(0, len(seq)-1)\n",
    "        else:\n",
    "            occur_id = random.randint(0, len(self.train_labels_shfl[T][shuffled_blocksz])-1)\n",
    "            seq = self.train_labels_shfl[T][shuffled_blocksz][occur_id]\n",
    "\n",
    "        n_labels = len(set(seq))\n",
    "        lbls_ax = plt.subplot(n_Ts, 1, 1+T_id)\n",
    "        lbls_axes.append(lbls_ax)\n",
    "        lbls_ax.plot(seq)\n",
    "\n",
    "        obs_lbl_set = set()\n",
    "        nobs_seq = []\n",
    "        for itr_id, lbl in enumerate(seq):\n",
    "            obs_lbl_set.add(lbl)\n",
    "            nobs_seq.append(len(obs_lbl_set))\n",
    "            if t_explr is None and len(obs_lbl_set) == n_labels:\n",
    "                t_explr = itr_id\n",
    "\n",
    "        lbls_ax.plot(nobs_seq)\n",
    "        if strides is not None:\n",
    "            for stride in strides:\n",
    "                lbls_ax.axvline(x=stride, ymin=0, ymax=n_labels)\n",
    "\n",
    "        ttl = 'History of labels in the original training sequence - T='+str(T)\n",
    "        if t_explr:\n",
    "            ttl = ttl+' - tau_asym=' + str(t_explr)\n",
    "            \n",
    "    if scope_max is not None:\n",
    "        lbls_ax.set_xlim([0,scope_max])\n",
    "            \n",
    "    plt.title(ttl)\n",
    "    plt.show()\n",
    "    return lbls_fig, lbls_axes\n",
    "\n",
    "def get_average_expltime(seqs):\n",
    "    t_explrs = []\n",
    "    for seq in seqs:\n",
    "        t_explr = None\n",
    "        n_labels = len(set(seq))\n",
    "        obs_lbl_set = set()\n",
    "        nobs_seq = []\n",
    "        for itr_id, lbl in enumerate(seq):\n",
    "            obs_lbl_set.add(lbl)\n",
    "            nobs_seq.append(len(obs_lbl_set))\n",
    "            if t_explr is None and len(obs_lbl_set) == n_labels:\n",
    "                t_explr = itr_id\n",
    "        if t_explr is not None:\n",
    "            t_explrs.append(t_explr)\n",
    "            \n",
    "    avg_t_explr = np.mean(t_explrs)\n",
    "    std_t_explr = np.std(t_explrs)\n",
    "    return len(t_explrs), avg_t_explr, std_t_explr"
   ]
  },
  {
   "cell_type": "markdown",
   "metadata": {},
   "source": [
    "## Sequence parameters"
   ]
  },
  {
   "cell_type": "code",
   "execution_count": 68,
   "metadata": {},
   "outputs": [],
   "source": [
    "T = 2.25e-1\n",
    "split_length = [1000]\n",
    "tree_depth = 3 #3 for MNIST\n",
    "tree_branching = 2 #other values not supported yet\n",
    "seq_length = 1500000\n",
    "test_nbr = 10 \n",
    "hidden_size = 256 # size of the neural net hidden layer"
   ]
  },
  {
   "cell_type": "markdown",
   "metadata": {},
   "source": [
    "## Sequence generation "
   ]
  },
  {
   "cell_type": "markdown",
   "metadata": {},
   "source": [
    "Generate the sequence necessary for HP exploration: an ultrametric sequence and a random blocks sequence"
   ]
  },
  {
   "cell_type": "code",
   "execution_count": 69,
   "metadata": {},
   "outputs": [],
   "source": [
    "import os\n",
    "import matplotlib.pyplot as plt\n",
    "import random\n",
    "nwds = '/home/slebastard-adc/Documents/Projects/ultrametric_benchmark/Ultrametric-Benchmark'\n",
    "nwda = '/Users/Antonin/Documents/Documents/ENS 2A/Stage M1/Code/github/Ultrametric-benchmark'\n",
    "os.chdir(nwda)"
   ]
  },
  {
   "cell_type": "code",
   "execution_count": 70,
   "metadata": {},
   "outputs": [],
   "source": [
    "from trainer import Trainer\n",
    "from dataset import Dataset"
   ]
  },
  {
   "cell_type": "code",
   "execution_count": 71,
   "metadata": {},
   "outputs": [],
   "source": [
    "mnist_ds = Dataset(data_origin='MNIST')\n",
    "trainer_um = Trainer(dataset=mnist_ds, network='network', training_type='ultrametric',\n",
    "                    memory_sampling='reservoir sampling', memory_sz=10, sequence_length=seq_length,\n",
    "                    energy_step=1, T=T, split_length_list=split_length, batch_sz=10)\n",
    "trainer_rb = Trainer(dataset=mnist_ds, network='network', training_type='random_blocks2',\n",
    "                    memory_sampling='reservoir sampling', memory_sz=10, sequence_length=seq_length,\n",
    "                    energy_step=1, T=T, split_length_list=split_length, batch_sz=10)\n",
    "trainer_uf = Trainer(dataset=mnist_ds, network='network', training_type='uniform',\n",
    "                    memory_sampling='reservoir sampling', memory_sz=10, sequence_length=seq_length,\n",
    "                    energy_step=1, T=T, split_length_list=split_length, batch_sz=10)"
   ]
  },
  {
   "cell_type": "markdown",
   "metadata": {},
   "source": [
    "Generate the digits sequences for both cases"
   ]
  },
  {
   "cell_type": "code",
   "execution_count": 72,
   "metadata": {
    "scrolled": true
   },
   "outputs": [
    {
     "name": "stdout",
     "output_type": "stream",
     "text": [
      "Transition rates vector : [0.00000000e+00 9.88257972e-01 5.80286722e-03 5.80286722e-03\n",
      " 3.40733583e-05 3.40733583e-05 3.40733583e-05 3.40733583e-05]\n",
      "Transition rates vector : [0.125, 0.125, 0.125, 0.125, 0.125, 0.125, 0.125, 0.125]\n",
      "Transition rates vector : [0.00000000e+00 9.88257972e-01 5.80286722e-03 5.80286722e-03\n",
      " 3.40733583e-05 3.40733583e-05 3.40733583e-05 3.40733583e-05]\n",
      "Transition rates vector : [0.125, 0.125, 0.125, 0.125, 0.125, 0.125, 0.125, 0.125]\n",
      "Transition rates vector : [0.00000000e+00 9.88257972e-01 5.80286722e-03 5.80286722e-03\n",
      " 3.40733583e-05 3.40733583e-05 3.40733583e-05 3.40733583e-05]\n",
      "Transition rates vector : [0.125, 0.125, 0.125, 0.125, 0.125, 0.125, 0.125, 0.125]\n",
      "Transition rates vector : [0.00000000e+00 9.88257972e-01 5.80286722e-03 5.80286722e-03\n",
      " 3.40733583e-05 3.40733583e-05 3.40733583e-05 3.40733583e-05]\n",
      "Transition rates vector : [0.125, 0.125, 0.125, 0.125, 0.125, 0.125, 0.125, 0.125]\n",
      "Transition rates vector : [0.00000000e+00 9.88257972e-01 5.80286722e-03 5.80286722e-03\n",
      " 3.40733583e-05 3.40733583e-05 3.40733583e-05 3.40733583e-05]\n",
      "Transition rates vector : [0.125, 0.125, 0.125, 0.125, 0.125, 0.125, 0.125, 0.125]\n"
     ]
    }
   ],
   "source": [
    "um_seqs = []\n",
    "rb_seqs = []\n",
    "uf_seqs = []\n",
    "n_trials = 5\n",
    "\n",
    "for trial_id in range(n_trials):\n",
    "    trainer_um.make_train_sequence()\n",
    "    um_seqs.append(trainer_um.train_sequence)\n",
    "    trainer_rb.make_train_sequence()\n",
    "    rb_seqs.append(trainer_rb.train_sequence)\n",
    "    trainer_uf.make_train_sequence()\n",
    "    uf_seqs.append(trainer_uf.train_sequence)\n",
    "    \n",
    "um_n_expl_success, um_mean_t_expl, um_std_t_expl = get_average_expltime(um_seqs)\n",
    "rb_n_expl_success, rb_mean_t_expl, rb_std_t_expl = get_average_expltime(rb_seqs)\n",
    "uf_n_expl_success, uf_mean_t_expl, uf_std_t_expl = get_average_expltime(uf_seqs)"
   ]
  },
  {
   "cell_type": "code",
   "execution_count": 73,
   "metadata": {},
   "outputs": [
    {
     "name": "stdout",
     "output_type": "stream",
     "text": [
      "Ultrametric: 5/5 sequences have reached full exploration, with average exploration time 7269.8 epochs (std dev 5679.8)\n",
      "Random blocks: 5/5 sequences have reached full exploration, with average exploration time 6201.4 epochs (std dev 1720.4)\n",
      "Uniform: 5/5 sequences have reached full exploration, with average exploration time 20.2 epochs (std dev 6.5)\n"
     ]
    }
   ],
   "source": [
    "print(\"Ultrametric: {0:d}/{1:d} sequences have reached full exploration, with average exploration time {2:.1f} epochs (std dev {3:.1f})\".format(\n",
    "    um_n_expl_success,\n",
    "    n_trials,\n",
    "    um_mean_t_expl,\n",
    "    um_std_t_expl\n",
    "))\n",
    "\n",
    "print(\"Random blocks: {0:d}/{1:d} sequences have reached full exploration, with average exploration time {2:.1f} epochs (std dev {3:.1f})\".format(\n",
    "    rb_n_expl_success,\n",
    "    n_trials,\n",
    "    rb_mean_t_expl,\n",
    "    rb_std_t_expl\n",
    "))\n",
    "\n",
    "print(\"Uniform: {0:d}/{1:d} sequences have reached full exploration, with average exploration time {2:.1f} epochs (std dev {3:.1f})\".format(\n",
    "    uf_n_expl_success,\n",
    "    n_trials,\n",
    "    uf_mean_t_expl,\n",
    "    uf_std_t_expl\n",
    "))"
   ]
  },
  {
   "cell_type": "markdown",
   "metadata": {},
   "source": [
    "## Plot labels history"
   ]
  },
  {
   "cell_type": "markdown",
   "metadata": {},
   "source": [
    "Plot the Ultrametric sequence and the history of visited labels"
   ]
  },
  {
   "cell_type": "code",
   "execution_count": 74,
   "metadata": {},
   "outputs": [
    {
     "data": {
      "image/png": "[encoded data removed]",
      "text/plain": [
       "<Figure size 1296x720 with 1 Axes>"
      ]
     },
     "metadata": {
      "needs_background": "light"
     },
     "output_type": "display_data"
    },
    {
     "data": {
      "text/plain": [
       "(<Figure size 1296x720 with 1 Axes>,\n",
       " [<matplotlib.axes._subplots.AxesSubplot at 0x170172cbd30>])"
      ]
     },
     "execution_count": 74,
     "metadata": {},
     "output_type": "execute_result"
    }
   ],
   "source": [
    "lbl_history(um_seqs[0], [T], scope_max=1.5e4) "
   ]
  },
  {
   "cell_type": "markdown",
   "metadata": {},
   "source": [
    "Plot the Random Blocks sequence and the history of visited labels"
   ]
  },
  {
   "cell_type": "code",
   "execution_count": 75,
   "metadata": {
    "scrolled": true
   },
   "outputs": [
    {
     "data": {
      "image/png": "[encoded data removed]",
      "text/plain": [
       "<Figure size 1296x720 with 1 Axes>"
      ]
     },
     "metadata": {
      "needs_background": "light"
     },
     "output_type": "display_data"
    },
    {
     "data": {
      "text/plain": [
       "(<Figure size 1296x720 with 1 Axes>,\n",
       " [<matplotlib.axes._subplots.AxesSubplot at 0x17014fb4f60>])"
      ]
     },
     "execution_count": 75,
     "metadata": {},
     "output_type": "execute_result"
    }
   ],
   "source": [
    "lbl_history(trainer_rb.train_sequence, [T], scope_max=1.5e4) "
   ]
  },
  {
   "cell_type": "code",
   "execution_count": 76,
   "metadata": {},
   "outputs": [
    {
     "data": {
      "image/png": "[encoded data removed]",
      "text/plain": [
       "<Figure size 1296x720 with 1 Axes>"
      ]
     },
     "metadata": {
      "needs_background": "light"
     },
     "output_type": "display_data"
    },
    {
     "data": {
      "text/plain": [
       "(<Figure size 1296x720 with 1 Axes>,\n",
       " [<matplotlib.axes._subplots.AxesSubplot at 0x170161d66d8>])"
      ]
     },
     "execution_count": 76,
     "metadata": {},
     "output_type": "execute_result"
    }
   ],
   "source": [
    "lbl_history(trainer_uf.train_sequence, [T], scope_max=1.5e4) "
   ]
  },
  {
   "cell_type": "markdown",
   "metadata": {},
   "source": [
    "## Testing network accuracy"
   ]
  },
  {
   "cell_type": "markdown",
   "metadata": {},
   "source": [
    "To make sure the temperature is correct, need to check that the network trained on the UM sequence reaches asymptotique accurary sensibly before the end of the training"
   ]
  },
  {
   "cell_type": "code",
   "execution_count": 77,
   "metadata": {},
   "outputs": [],
   "source": [
    "import neuralnet\n",
    "from ultrametric_analysis import ultrametric_analysis"
   ]
  },
  {
   "cell_type": "code",
   "execution_count": 78,
   "metadata": {},
   "outputs": [],
   "source": [
    "net = neuralnet.Net_FCL(dataset=mnist_ds, hidden_size=hidden_size)\n",
    "trainer_um.network = net\n",
    "trainer_um.network_orig = net\n",
    "trainer_um.network_shfl = net"
   ]
  },
  {
   "cell_type": "code",
   "execution_count": 79,
   "metadata": {},
   "outputs": [],
   "source": [
    "class Argument: \n",
    "    def __init__(self, verbose, test_nbr, test_stride, lr, sequence_type, enable_shuffling): \n",
    "        self.verbose = verbose\n",
    "        self.test_nbr = test_nbr\n",
    "        self.test_stride = test_stride\n",
    "        self.lr = lr \n",
    "        self.sequence_type = sequence_type\n",
    "        self.enable_shuffling = enable_shuffling\n",
    "      \n",
    "test_stride = int(seq_length/test_nbr)\n",
    "args = Argument(verbose=1, test_nbr=test_nbr, test_stride=test_stride, lr=0.01, \n",
    "                sequence_type=\"ultrametric\", enable_shuffling=False)"
   ]
  },
  {
   "cell_type": "code",
   "execution_count": 80,
   "metadata": {},
   "outputs": [
    {
     "name": "stdout",
     "output_type": "stream",
     "text": [
      "Data generation...\n",
      "Transition rates vector : [0.00000000e+00 9.88257972e-01 5.80286722e-03 5.80286722e-03\n",
      " 3.40733583e-05 3.40733583e-05 3.40733583e-05 3.40733583e-05]\n",
      "...done\n",
      "\n",
      "[1000] loss: 0.2061\n",
      "[2000] loss: 0.1012\n",
      "[3000] loss: 0.0746\n",
      "[4000] loss: 0.0942\n",
      "[5000] loss: 0.0705\n",
      "[6000] loss: 0.0811\n",
      "[7000] loss: 0.0704\n",
      "[8000] loss: 0.0755\n",
      "[9000] loss: 0.0552\n",
      "[10000] loss: 0.0808\n",
      "[11000] loss: 0.0544\n",
      "[12000] loss: 0.0696\n",
      "[13000] loss: 0.0726\n",
      "[14000] loss: 0.0621\n",
      "[15000] loss: 0.0654\n",
      "--- Finished Experience Replay training on (0, 150000) ---\n",
      "Accuracy of the network on the 7136 test images: 86.95%\n",
      "[16000] loss: 0.0649\n",
      "[17000] loss: 0.0785\n",
      "[18000] loss: 0.0592\n",
      "[19000] loss: 0.0600\n",
      "[20000] loss: 0.0610\n",
      "[21000] loss: 0.0776\n",
      "[22000] loss: 0.0759\n",
      "[23000] loss: 0.0548\n",
      "[24000] loss: 0.0428\n",
      "[25000] loss: 0.0662\n",
      "[26000] loss: 0.0498\n",
      "[27000] loss: 0.0710\n",
      "[28000] loss: 0.0608\n",
      "[29000] loss: 0.0602\n",
      "[30000] loss: 0.0500\n",
      "--- Finished Experience Replay training on (150000, 300000) ---\n",
      "Accuracy of the network on the 7136 test images: 77.28%\n",
      "[31000] loss: 0.0666\n",
      "[32000] loss: 0.0536\n",
      "[33000] loss: 0.0634\n",
      "[34000] loss: 0.0507\n",
      "[35000] loss: 0.0594\n",
      "[36000] loss: 0.0619\n",
      "[37000] loss: 0.0461\n",
      "[38000] loss: 0.0591\n",
      "[39000] loss: 0.0461\n",
      "[40000] loss: 0.0758\n",
      "[41000] loss: 0.0391\n",
      "[42000] loss: 0.0573\n",
      "[43000] loss: 0.0483\n",
      "[44000] loss: 0.0456\n",
      "[45000] loss: 0.0651\n",
      "--- Finished Experience Replay training on (300000, 450000) ---\n",
      "Accuracy of the network on the 7136 test images: 83.48%\n",
      "[46000] loss: 0.0674\n",
      "[47000] loss: 0.0559\n",
      "[48000] loss: 0.0546\n",
      "[49000] loss: 0.0612\n",
      "[50000] loss: 0.0600\n",
      "[51000] loss: 0.0698\n",
      "[52000] loss: 0.0456\n",
      "[53000] loss: 0.0456\n",
      "[54000] loss: 0.0572\n",
      "[55000] loss: 0.0638\n",
      "[56000] loss: 0.0421\n",
      "[57000] loss: 0.0548\n",
      "[58000] loss: 0.0687\n",
      "[59000] loss: 0.0420\n",
      "[60000] loss: 0.0388\n",
      "--- Finished Experience Replay training on (450000, 600000) ---\n",
      "Accuracy of the network on the 7136 test images: 68.19%\n",
      "[61000] loss: 0.0633\n",
      "[62000] loss: 0.0579\n",
      "[63000] loss: 0.0392\n",
      "[64000] loss: 0.0411\n",
      "[65000] loss: 0.0588\n",
      "[66000] loss: 0.0584\n",
      "[67000] loss: 0.0352\n",
      "[68000] loss: 0.0589\n",
      "[69000] loss: 0.0522\n",
      "[70000] loss: 0.0549\n",
      "[71000] loss: 0.0401\n",
      "[72000] loss: 0.0561\n",
      "[73000] loss: 0.0497\n",
      "[74000] loss: 0.0495\n",
      "[75000] loss: 0.0508\n",
      "--- Finished Experience Replay training on (600000, 750000) ---\n",
      "Accuracy of the network on the 7136 test images: 85.62%\n",
      "[76000] loss: 0.0529\n",
      "[77000] loss: 0.0467\n",
      "[78000] loss: 0.0479\n",
      "[79000] loss: 0.0577\n",
      "[80000] loss: 0.0591\n",
      "[81000] loss: 0.0521\n",
      "[82000] loss: 0.0622\n",
      "[83000] loss: 0.0447\n",
      "[84000] loss: 0.0550\n",
      "[85000] loss: 0.0569\n",
      "[86000] loss: 0.0373\n",
      "[87000] loss: 0.0592\n",
      "[88000] loss: 0.0616\n",
      "[89000] loss: 0.0466\n",
      "[90000] loss: 0.0509\n",
      "--- Finished Experience Replay training on (750000, 900000) ---\n",
      "Accuracy of the network on the 7136 test images: 77.09%\n",
      "[91000] loss: 0.0661\n",
      "[92000] loss: 0.0568\n",
      "[93000] loss: 0.0528\n",
      "[94000] loss: 0.0570\n",
      "[95000] loss: 0.0576\n",
      "[96000] loss: 0.0589\n",
      "[97000] loss: 0.0552\n",
      "[98000] loss: 0.0589\n",
      "[99000] loss: 0.0441\n",
      "[100000] loss: 0.0441\n",
      "[101000] loss: 0.0577\n",
      "[102000] loss: 0.0538\n",
      "[103000] loss: 0.0416\n",
      "[104000] loss: 0.0597\n",
      "[105000] loss: 0.0525\n",
      "--- Finished Experience Replay training on (900000, 1050000) ---\n",
      "Accuracy of the network on the 7136 test images: 78.38%\n",
      "[106000] loss: 0.0646\n",
      "[107000] loss: 0.0423\n",
      "[108000] loss: 0.0488\n",
      "[109000] loss: 0.0562\n",
      "[110000] loss: 0.0486\n",
      "[111000] loss: 0.0395\n",
      "[112000] loss: 0.0517\n",
      "[113000] loss: 0.0569\n",
      "[114000] loss: 0.0466\n",
      "[115000] loss: 0.0620\n",
      "[116000] loss: 0.0396\n",
      "[117000] loss: 0.0522\n",
      "[118000] loss: 0.0573\n",
      "[119000] loss: 0.0425\n",
      "[120000] loss: 0.0372\n",
      "--- Finished Experience Replay training on (1050000, 1200000) ---\n",
      "Accuracy of the network on the 7136 test images: 76.98%\n",
      "[121000] loss: 0.0415\n",
      "[122000] loss: 0.0683\n",
      "[123000] loss: 0.0620\n",
      "[124000] loss: 0.0506\n",
      "[125000] loss: 0.0585\n",
      "[126000] loss: 0.0521\n",
      "[127000] loss: 0.0454\n",
      "[128000] loss: 0.0508\n",
      "[129000] loss: 0.0395\n",
      "[130000] loss: 0.0412\n",
      "[131000] loss: 0.0554\n",
      "[132000] loss: 0.0503\n",
      "[133000] loss: 0.0560\n",
      "[134000] loss: 0.0470\n",
      "[135000] loss: 0.0543\n",
      "--- Finished Experience Replay training on (1200000, 1350000) ---\n",
      "Accuracy of the network on the 7136 test images: 89.17%\n",
      "[136000] loss: 0.0396\n",
      "[137000] loss: 0.0658\n",
      "[138000] loss: 0.0582\n",
      "[139000] loss: 0.0440\n",
      "[140000] loss: 0.0519\n",
      "[141000] loss: 0.0532\n",
      "[142000] loss: 0.0550\n",
      "[143000] loss: 0.0464\n",
      "[144000] loss: 0.0591\n",
      "[145000] loss: 0.0575\n",
      "[146000] loss: 0.0559\n",
      "[147000] loss: 0.0517\n",
      "[148000] loss: 0.0500\n",
      "[149000] loss: 0.0544\n",
      "[150000] loss: 0.0386\n",
      "--- Finished Experience Replay training on (1350000, 1500000) ---\n",
      "Accuracy of the network on the 7136 test images: 74.27%\n"
     ]
    }
   ],
   "source": [
    "rs = ultrametric_analysis(trainer_um, args, [])"
   ]
  },
  {
   "cell_type": "code",
   "execution_count": null,
   "metadata": {},
   "outputs": [],
   "source": []
  }
 ],
 "metadata": {
  "kernelspec": {
   "display_name": "Python 3",
   "language": "python",
   "name": "python3"
  },
  "language_info": {
   "codemirror_mode": {
    "name": "ipython",
    "version": 3
   },
   "file_extension": ".py",
   "mimetype": "text/x-python",
   "name": "python",
   "nbconvert_exporter": "python",
   "pygments_lexer": "ipython3",
   "version": "3.6.9"
  }
 },
 "nbformat": 4,
 "nbformat_minor": 4
}
